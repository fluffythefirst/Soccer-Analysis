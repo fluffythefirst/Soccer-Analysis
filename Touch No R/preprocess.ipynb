{
 "cells": [
  {
   "cell_type": "code",
   "execution_count": 32,
   "id": "ffe49850",
   "metadata": {},
   "outputs": [],
   "source": [
    "from PIL import Image\n",
    "import re"
   ]
  },
  {
   "cell_type": "code",
   "execution_count": 33,
   "id": "00076665",
   "metadata": {},
   "outputs": [],
   "source": [
    "bank = ['02-09 leicester RM.png',\n",
    "'04-01 bournemouth LL.png',\n",
    "'05-02 crystal LL.png',\n",
    "'05-09 arsenal LM.png',\n",
    "'07-01 everton LL.png',\n",
    "'09-02 burnley RR.png',\n",
    "'10-10 everton RL.png',\n",
    "'11-11 villa LL.png',\n",
    "'14-01 city LL.png',\n",
    "'14-11 fullham RL.png',\n",
    "'20-04 liverpool RM.png',\n",
    "'20-10 spurs LM.png',\n",
    "'22-12 burnley LR.png',\n",
    "'23-01 arsenal RL.png',\n",
    "'23-08 liverpool LM.png',\n",
    "'23-10 chelsea RM.png',\n",
    "'25-01 Nottingham RL.png',\n",
    "'28-01 reading LL.png',\n",
    "'28-12 forest LL.png']"
   ]
  },
  {
   "cell_type": "code",
   "execution_count": 38,
   "id": "4579a5cc",
   "metadata": {},
   "outputs": [],
   "source": [
    "def modify(image,modified):\n",
    "    new = Image.open(image)\n",
    "    width, height = new.size\n",
    "    \n",
    "    pixels = modified.load()\n",
    "    for y in range(height):\n",
    "        for x in range(width):\n",
    "            r1,g1,b1,a1 = new.getpixel((x,y))\n",
    "            if re.search('RM|RL|RR',image):\n",
    "                if r1 != 0 and g1 != 139 and b1 != 224:\n",
    "                    r1 = 0\n",
    "                    g1 = 0 \n",
    "                    b1 = 0 \n",
    "                    a1 = 0\n",
    "                pixels[x, y] = (r1, g1, b1, a1)\n",
    "            else:\n",
    "                if r1 != 235 and g1 != 91 and b1 != 20:\n",
    "                    r1 = 0\n",
    "                    g1 = 0 \n",
    "                    b1 = 0 \n",
    "                    a1 = 0\n",
    "                pixels[x, y] = (r1, g1, b1, a1)\n",
    "\n",
    "    return modified"
   ]
  },
  {
   "cell_type": "code",
   "execution_count": 39,
   "id": "7dcf96bf",
   "metadata": {},
   "outputs": [],
   "source": [
    "for image in bank:\n",
    "    modify(image,modified)\n",
    "    modified.save(image,'PNG')\n",
    "    modified = Image.new('RGBA',(width,height),'white')"
   ]
  },
  {
   "cell_type": "code",
   "execution_count": 4,
   "id": "70db1501",
   "metadata": {},
   "outputs": [],
   "source": [
    "modified.save('02-09 leicester RM_MM.png','PNG') "
   ]
  },
  {
   "cell_type": "code",
   "execution_count": 20,
   "id": "ba6c9fce",
   "metadata": {},
   "outputs": [
    {
     "name": "stdout",
     "output_type": "stream",
     "text": [
      "02-09 leicester R.png\n",
      "09-02 burnley R.png\n",
      "10-10 everton R.png\n",
      "14-11 fullham R.png\n",
      "20-04 liverpool R.png\n",
      "23-01 arsenal R.png\n",
      "23-10 chelsea R.png\n",
      "25-01 Nottingham R.png\n"
     ]
    }
   ],
   "source": [
    "for image in bank:\n",
    "    if 'R' in image:\n",
    "        print(image)"
   ]
  },
  {
   "cell_type": "code",
   "execution_count": null,
   "id": "1af82c15",
   "metadata": {},
   "outputs": [],
   "source": []
  }
 ],
 "metadata": {
  "kernelspec": {
   "display_name": "Python 3 (ipykernel)",
   "language": "python",
   "name": "python3"
  },
  "language_info": {
   "codemirror_mode": {
    "name": "ipython",
    "version": 3
   },
   "file_extension": ".py",
   "mimetype": "text/x-python",
   "name": "python",
   "nbconvert_exporter": "python",
   "pygments_lexer": "ipython3",
   "version": "3.9.12"
  }
 },
 "nbformat": 4,
 "nbformat_minor": 5
}
